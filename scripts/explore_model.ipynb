{
 "cells": [
  {
   "attachments": {},
   "cell_type": "markdown",
   "metadata": {},
   "source": [
    "### Explore model\n",
    "This scripts runs some data exploration methods to grasp the underlying data structure. To run the script, a pandas dataframe has to be read that contains a table with all samples and features."
   ]
  },
  {
   "cell_type": "code",
   "execution_count": null,
   "metadata": {},
   "outputs": [],
   "source": [
    "from fmri_decoder.model import MVPA"
   ]
  },
  {
   "cell_type": "code",
   "execution_count": null,
   "metadata": {},
   "outputs": [],
   "source": [
    "# load dataframe from disk that contains all features and samples\n",
    "file_parquet = input(\"Enter file name of pandas dataframe (*.parquet): \")\n",
    "\n",
    "nmax = 200  # number of features\n",
    "feature_list = [\"feature 0\", \"feature 1\"]  # considered features\n",
    "mvpa = MVPA.from_file(file_parquet, nmax=nmax)\n",
    "mvpa.scale_features(\"standard\")  # standard scaling within folds"
   ]
  },
  {
   "cell_type": "code",
   "execution_count": null,
   "metadata": {},
   "outputs": [],
   "source": [
    "print(\"Explore features:\")\n",
    "for i in range(mvpa.n_batch):\n",
    "    mvpa.explore_data(feature_list, i)"
   ]
  },
  {
   "cell_type": "code",
   "execution_count": null,
   "metadata": {},
   "outputs": [],
   "source": [
    "print(\"Describe features:\")\n",
    "for i in range(mvpa.n_batch):\n",
    "    mvpa.describe_data(feature_list, i)"
   ]
  },
  {
   "cell_type": "code",
   "execution_count": null,
   "metadata": {},
   "outputs": [],
   "source": [
    "print(\"Check balance between classes:\")\n",
    "for i in range(mvpa.n_batch):\n",
    "    mvpa.check_balance(i)"
   ]
  }
 ],
 "metadata": {
  "kernelspec": {
   "display_name": "decoder",
   "language": "python",
   "name": "python3"
  },
  "language_info": {
   "codemirror_mode": {
    "name": "ipython",
    "version": 3
   },
   "file_extension": ".py",
   "mimetype": "text/x-python",
   "name": "python",
   "nbconvert_exporter": "python",
   "pygments_lexer": "ipython3",
   "version": "3.10.8"
  },
  "orig_nbformat": 4,
  "vscode": {
   "interpreter": {
    "hash": "9c5914568ca2a25b222ec99828241d3f35ec8b0751fb6ae26120bc5953130ae6"
   }
  }
 },
 "nbformat": 4,
 "nbformat_minor": 2
}
