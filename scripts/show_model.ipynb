{
 "cells": [
  {
   "attachments": {},
   "cell_type": "markdown",
   "metadata": {},
   "source": [
    "### Plot raw fMRI signal\n",
    "This script plots the raw time series signal (samples) from all selected features across all folds. This illustration is very similar to Figure 2 in Haynes and Rees, Current Biology, 15, 2005. To run the script, a pandas dataframe has to be read that contains a table with all samples and features."
   ]
  },
  {
   "cell_type": "code",
   "execution_count": null,
   "metadata": {},
   "outputs": [],
   "source": [
    "import numpy as np\n",
    "import matplotlib.pyplot as plt\n",
    "from numpy.ma import masked_array\n",
    "from fmri_decoder.model import MVPA"
   ]
  },
  {
   "cell_type": "code",
   "execution_count": null,
   "metadata": {},
   "outputs": [],
   "source": [
    "# load dataframe from disk that contains all features and samples\n",
    "file_parquet = input(\"Enter file name of pandas dataframe (*.parquet): \")\n",
    "\n",
    "nmax = 20  # number of features\n",
    "mvpa = MVPA.from_file(file_parquet, nmax=nmax)\n",
    "mvpa.scale_features(\"standard\")  # standard scaling within folds"
   ]
  },
  {
   "cell_type": "code",
   "execution_count": null,
   "metadata": {},
   "outputs": [],
   "source": [
    "X_train = mvpa.dtf.iloc[:, 2:nmax+2].to_numpy()\n",
    "y_train = mvpa.dtf[\"label\"].to_numpy()\n",
    "\n",
    "v1 = np.c_[X_train, y_train]\n",
    "v1 = v1.T\n",
    "\n",
    "mask = np.ones_like(v1)\n",
    "mask[-1, :] = 0\n",
    "\n",
    "v1a = masked_array(v1, mask==0)\n",
    "v1b = masked_array(v1, mask==1)\n",
    "fig,ax = plt.subplots()\n",
    "ax.imshow(v1a,interpolation='nearest',cmap=\"gray\")\n",
    "ax.imshow(v1b,interpolation='nearest',cmap=\"summer\")\n",
    "ax.set_xticks([])\n",
    "ax.set_yticks([])\n",
    "#plt.xlabel(\"Time\")\n",
    "#plt.ylabel('Features / Labels')\n",
    "plt.show()"
   ]
  }
 ],
 "metadata": {
  "kernelspec": {
   "display_name": "decoder",
   "language": "python",
   "name": "python3"
  },
  "language_info": {
   "codemirror_mode": {
    "name": "ipython",
    "version": 3
   },
   "file_extension": ".py",
   "mimetype": "text/x-python",
   "name": "python",
   "nbconvert_exporter": "python",
   "pygments_lexer": "ipython3",
   "version": "3.10.8 (main, Nov 24 2022, 14:13:03) [GCC 11.2.0]"
  },
  "orig_nbformat": 4,
  "vscode": {
   "interpreter": {
    "hash": "9c5914568ca2a25b222ec99828241d3f35ec8b0751fb6ae26120bc5953130ae6"
   }
  }
 },
 "nbformat": 4,
 "nbformat_minor": 2
}
